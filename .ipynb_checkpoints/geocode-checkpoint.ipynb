{
 "cells": [
  {
   "cell_type": "code",
   "execution_count": 2,
   "metadata": {},
   "outputs": [],
   "source": [
    "import pandas as pd\n",
    "import os\n",
    "from sqlalchemy import create_engine\n",
    "import folium"
   ]
  },
  {
   "cell_type": "code",
   "execution_count": 3,
   "metadata": {},
   "outputs": [],
   "source": [
    "cwd = os.getcwd()\n",
    "file = os.path.join(cwd,'hosp.db')\n",
    "url = 'sqlite:///' + file"
   ]
  },
  {
   "cell_type": "code",
   "execution_count": 5,
   "metadata": {},
   "outputs": [],
   "source": [
    "engine = create_engine(url, echo=True)"
   ]
  },
  {
   "cell_type": "code",
   "execution_count": 52,
   "metadata": {},
   "outputs": [
    {
     "name": "stdout",
     "output_type": "stream",
     "text": [
      "2018-10-13 21:05:47,040 INFO sqlalchemy.engine.base.Engine PRAGMA table_info(\"SELECT * FROM HOSP WHERE 都道府県 = '北海道' AND 病診区分 = 1\")\n",
      "2018-10-13 21:05:47,041 INFO sqlalchemy.engine.base.Engine ()\n",
      "2018-10-13 21:05:47,043 INFO sqlalchemy.engine.base.Engine SELECT * FROM HOSP WHERE 都道府県 = '北海道' AND 病診区分 = 1\n",
      "2018-10-13 21:05:47,044 INFO sqlalchemy.engine.base.Engine ()\n"
     ]
    }
   ],
   "source": [
    "df = pd.read_sql(\"SELECT * FROM HOSP WHERE 都道府県 = '北海道' AND 病診区分 = 1\",engine)"
   ]
  },
  {
   "cell_type": "code",
   "execution_count": 53,
   "metadata": {},
   "outputs": [
    {
     "data": {
      "text/html": [
       "<div>\n",
       "<style scoped>\n",
       "    .dataframe tbody tr th:only-of-type {\n",
       "        vertical-align: middle;\n",
       "    }\n",
       "\n",
       "    .dataframe tbody tr th {\n",
       "        vertical-align: top;\n",
       "    }\n",
       "\n",
       "    .dataframe thead th {\n",
       "        text-align: right;\n",
       "    }\n",
       "</style>\n",
       "<table border=\"1\" class=\"dataframe\">\n",
       "  <thead>\n",
       "    <tr style=\"text-align: right;\">\n",
       "      <th></th>\n",
       "      <th>index</th>\n",
       "      <th>FID</th>\n",
       "      <th>医療機関番号</th>\n",
       "      <th>医療機関コード</th>\n",
       "      <th>医療機関名</th>\n",
       "      <th>郵便番号</th>\n",
       "      <th>都道府県</th>\n",
       "      <th>都道府県番号</th>\n",
       "      <th>医療機関所在地</th>\n",
       "      <th>X</th>\n",
       "      <th>...</th>\n",
       "      <th>常勤非常勤医師合計</th>\n",
       "      <th>一般病床数</th>\n",
       "      <th>一般感染病床</th>\n",
       "      <th>介護病床数</th>\n",
       "      <th>療養病床数</th>\n",
       "      <th>精神病床数</th>\n",
       "      <th>結核病床数</th>\n",
       "      <th>病床数</th>\n",
       "      <th>病診区分</th>\n",
       "      <th>病院機能</th>\n",
       "    </tr>\n",
       "  </thead>\n",
       "  <tbody>\n",
       "    <tr>\n",
       "      <th>0</th>\n",
       "      <td>0</td>\n",
       "      <td>1</td>\n",
       "      <td>1410031</td>\n",
       "      <td>111410031</td>\n",
       "      <td>社会福祉法人　函館厚生院　函館五稜郭病院</td>\n",
       "      <td>400001</td>\n",
       "      <td>北海道</td>\n",
       "      <td>1</td>\n",
       "      <td>北海道函館市五稜郭町３８番３号</td>\n",
       "      <td>140.755423</td>\n",
       "      <td>...</td>\n",
       "      <td>105</td>\n",
       "      <td>480</td>\n",
       "      <td>0</td>\n",
       "      <td>0</td>\n",
       "      <td>0</td>\n",
       "      <td>0</td>\n",
       "      <td>0</td>\n",
       "      <td>480</td>\n",
       "      <td>1</td>\n",
       "      <td>0</td>\n",
       "    </tr>\n",
       "    <tr>\n",
       "      <th>1</th>\n",
       "      <td>1</td>\n",
       "      <td>2</td>\n",
       "      <td>1410049</td>\n",
       "      <td>111410049</td>\n",
       "      <td>函館中央病院</td>\n",
       "      <td>400011</td>\n",
       "      <td>北海道</td>\n",
       "      <td>1</td>\n",
       "      <td>北海道函館市本町３３番２号</td>\n",
       "      <td>140.751654</td>\n",
       "      <td>...</td>\n",
       "      <td>92</td>\n",
       "      <td>527</td>\n",
       "      <td>0</td>\n",
       "      <td>0</td>\n",
       "      <td>0</td>\n",
       "      <td>0</td>\n",
       "      <td>0</td>\n",
       "      <td>527</td>\n",
       "      <td>1</td>\n",
       "      <td>0</td>\n",
       "    </tr>\n",
       "    <tr>\n",
       "      <th>2</th>\n",
       "      <td>2</td>\n",
       "      <td>3</td>\n",
       "      <td>1410064</td>\n",
       "      <td>111410064</td>\n",
       "      <td>函館赤十字病院</td>\n",
       "      <td>400025</td>\n",
       "      <td>北海道</td>\n",
       "      <td>1</td>\n",
       "      <td>北海道函館市堀川町６番２１号</td>\n",
       "      <td>140.740242</td>\n",
       "      <td>...</td>\n",
       "      <td>11</td>\n",
       "      <td>150</td>\n",
       "      <td>0</td>\n",
       "      <td>0</td>\n",
       "      <td>0</td>\n",
       "      <td>0</td>\n",
       "      <td>0</td>\n",
       "      <td>150</td>\n",
       "      <td>1</td>\n",
       "      <td>0</td>\n",
       "    </tr>\n",
       "    <tr>\n",
       "      <th>3</th>\n",
       "      <td>3</td>\n",
       "      <td>4</td>\n",
       "      <td>1410346</td>\n",
       "      <td>111410346</td>\n",
       "      <td>社会医療法人　高橋病院</td>\n",
       "      <td>400054</td>\n",
       "      <td>北海道</td>\n",
       "      <td>1</td>\n",
       "      <td>北海道函館市元町３２番１８号</td>\n",
       "      <td>140.712313</td>\n",
       "      <td>...</td>\n",
       "      <td>16</td>\n",
       "      <td>59</td>\n",
       "      <td>0</td>\n",
       "      <td>60</td>\n",
       "      <td>60</td>\n",
       "      <td>0</td>\n",
       "      <td>0</td>\n",
       "      <td>179</td>\n",
       "      <td>1</td>\n",
       "      <td>0</td>\n",
       "    </tr>\n",
       "    <tr>\n",
       "      <th>4</th>\n",
       "      <td>4</td>\n",
       "      <td>5</td>\n",
       "      <td>1410403</td>\n",
       "      <td>111410403</td>\n",
       "      <td>函館渡辺病院</td>\n",
       "      <td>420932</td>\n",
       "      <td>北海道</td>\n",
       "      <td>1</td>\n",
       "      <td>北海道函館市湯川町１丁目３１番１号</td>\n",
       "      <td>140.785402</td>\n",
       "      <td>...</td>\n",
       "      <td>111</td>\n",
       "      <td>120</td>\n",
       "      <td>0</td>\n",
       "      <td>0</td>\n",
       "      <td>0</td>\n",
       "      <td>461</td>\n",
       "      <td>0</td>\n",
       "      <td>581</td>\n",
       "      <td>1</td>\n",
       "      <td>0</td>\n",
       "    </tr>\n",
       "  </tbody>\n",
       "</table>\n",
       "<p>5 rows × 33 columns</p>\n",
       "</div>"
      ],
      "text/plain": [
       "   index  FID   医療機関番号    医療機関コード                 医療機関名    郵便番号 都道府県  都道府県番号  \\\n",
       "0      0    1  1410031  111410031  社会福祉法人　函館厚生院　函館五稜郭病院  400001  北海道       1   \n",
       "1      1    2  1410049  111410049                函館中央病院  400011  北海道       1   \n",
       "2      2    3  1410064  111410064               函館赤十字病院  400025  北海道       1   \n",
       "3      3    4  1410346  111410346           社会医療法人　高橋病院  400054  北海道       1   \n",
       "4      4    5  1410403  111410403                函館渡辺病院  420932  北海道       1   \n",
       "\n",
       "             医療機関所在地           X  ...   常勤非常勤医師合計  一般病床数 一般感染病床  介護病床数 療養病床数  \\\n",
       "0    北海道函館市五稜郭町３８番３号  140.755423  ...         105    480      0      0     0   \n",
       "1      北海道函館市本町３３番２号  140.751654  ...          92    527      0      0     0   \n",
       "2     北海道函館市堀川町６番２１号  140.740242  ...          11    150      0      0     0   \n",
       "3     北海道函館市元町３２番１８号  140.712313  ...          16     59      0     60    60   \n",
       "4  北海道函館市湯川町１丁目３１番１号  140.785402  ...         111    120      0      0     0   \n",
       "\n",
       "   精神病床数  結核病床数  病床数  病診区分  病院機能  \n",
       "0      0      0  480     1     0  \n",
       "1      0      0  527     1     0  \n",
       "2      0      0  150     1     0  \n",
       "3      0      0  179     1     0  \n",
       "4    461      0  581     1     0  \n",
       "\n",
       "[5 rows x 33 columns]"
      ]
     },
     "execution_count": 53,
     "metadata": {},
     "output_type": "execute_result"
    }
   ],
   "source": [
    "df.head()"
   ]
  },
  {
   "cell_type": "code",
   "execution_count": 51,
   "metadata": {},
   "outputs": [
    {
     "data": {
      "text/plain": [
       "Index(['index', 'FID', '医療機関番号', '医療機関コード', '医療機関名', '郵便番号', '都道府県', '都道府県番号',\n",
       "       '医療機関所在地', 'X', 'Y', '二次医療圏番号', '二次医療圏名', '地方団体コード', '地方団体コード名', '常勤合計',\n",
       "       '常勤医師数', '常勤歯科医師', '常勤薬剤師', '非常勤合計', '非常勤医師数', '非常勤歯科医師数', '非常勤薬剤師数',\n",
       "       '常勤非常勤医師合計', '一般病床数', '一般感染病床', '介護病床数', '療養病床数', '精神病床数', '結核病床数',\n",
       "       '病床数', '病診区分', '病院機能'],\n",
       "      dtype='object')"
      ]
     },
     "execution_count": 51,
     "metadata": {},
     "output_type": "execute_result"
    }
   ],
   "source": [
    "df.columns"
   ]
  },
  {
   "cell_type": "code",
   "execution_count": 48,
   "metadata": {},
   "outputs": [],
   "source": [
    "m = folium.Map(location=[41, 140], tiles=\"Mapbox Bright\", zoom_start=7)"
   ]
  },
  {
   "cell_type": "code",
   "execution_count": 49,
   "metadata": {},
   "outputs": [],
   "source": [
    "for i in range(0,len(df)):\n",
    "    folium.Marker([df.iloc[i]['Y'], df.iloc[i]['X']], popup=df.iloc[i]['医療機関名']).add_to(m)\n",
    " \n",
    "m.save('312_markers_on_folium_map1.html')\n"
   ]
  },
  {
   "cell_type": "code",
   "execution_count": 54,
   "metadata": {},
   "outputs": [
    {
     "data": {
      "text/plain": [
       "559"
      ]
     },
     "execution_count": 54,
     "metadata": {},
     "output_type": "execute_result"
    }
   ],
   "source": [
    "len(df)"
   ]
  },
  {
   "cell_type": "code",
   "execution_count": 6,
   "metadata": {},
   "outputs": [
    {
     "name": "stdout",
     "output_type": "stream",
     "text": [
      "2018-10-14 20:56:14,492 INFO sqlalchemy.engine.base.Engine SELECT CAST('test plain returns' AS VARCHAR(60)) AS anon_1\n",
      "2018-10-14 20:56:14,494 INFO sqlalchemy.engine.base.Engine ()\n",
      "2018-10-14 20:56:14,496 INFO sqlalchemy.engine.base.Engine SELECT CAST('test unicode returns' AS VARCHAR(60)) AS anon_1\n",
      "2018-10-14 20:56:14,497 INFO sqlalchemy.engine.base.Engine ()\n",
      "2018-10-14 20:56:14,499 INFO sqlalchemy.engine.base.Engine PRAGMA table_info(\"SELECT DISTINCT 都道府県 FROM HOSP\")\n",
      "2018-10-14 20:56:14,499 INFO sqlalchemy.engine.base.Engine ()\n",
      "2018-10-14 20:56:14,501 INFO sqlalchemy.engine.base.Engine SELECT DISTINCT 都道府県 FROM HOSP\n",
      "2018-10-14 20:56:14,502 INFO sqlalchemy.engine.base.Engine ()\n"
     ]
    }
   ],
   "source": [
    "states = pd.read_sql(\"SELECT DISTINCT 都道府県 FROM HOSP\",engine)"
   ]
  },
  {
   "cell_type": "code",
   "execution_count": 9,
   "metadata": {},
   "outputs": [
    {
     "data": {
      "text/plain": [
       "['北海道',\n",
       " '青森県',\n",
       " '岩手県',\n",
       " '宮城県',\n",
       " '秋田県',\n",
       " '山形県',\n",
       " '福島県',\n",
       " '茨城県',\n",
       " '栃木県',\n",
       " '群馬県',\n",
       " '埼玉県',\n",
       " '千葉県',\n",
       " '東京都',\n",
       " '神奈川県',\n",
       " '新潟県',\n",
       " '富山県',\n",
       " '石川県',\n",
       " '福井県',\n",
       " '山梨県',\n",
       " '長野県',\n",
       " '岐阜県',\n",
       " '静岡県',\n",
       " '愛知県',\n",
       " '三重県',\n",
       " '滋賀県',\n",
       " '京都府',\n",
       " '大阪府',\n",
       " '兵庫県',\n",
       " '奈良県',\n",
       " '和歌山県',\n",
       " '鳥取県',\n",
       " '島根県',\n",
       " '岡山県',\n",
       " '広島県',\n",
       " '山口県',\n",
       " '徳島県',\n",
       " '香川県',\n",
       " '愛媛県',\n",
       " '高知県',\n",
       " '福岡県',\n",
       " '佐賀県',\n",
       " '長崎県',\n",
       " '熊本県',\n",
       " '大分県',\n",
       " '宮崎県',\n",
       " '鹿児島県',\n",
       " '沖縄県']"
      ]
     },
     "execution_count": 9,
     "metadata": {},
     "output_type": "execute_result"
    }
   ],
   "source": [
    "list(states['都道府県'])"
   ]
  }
 ],
 "metadata": {
  "kernelspec": {
   "display_name": "Python 3",
   "language": "python",
   "name": "python3"
  },
  "language_info": {
   "codemirror_mode": {
    "name": "ipython",
    "version": 3
   },
   "file_extension": ".py",
   "mimetype": "text/x-python",
   "name": "python",
   "nbconvert_exporter": "python",
   "pygments_lexer": "ipython3",
   "version": "3.6.4"
  }
 },
 "nbformat": 4,
 "nbformat_minor": 2
}
