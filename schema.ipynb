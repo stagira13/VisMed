{
 "cells": [
  {
   "cell_type": "markdown",
   "metadata": {},
   "source": [
    "# 下準備：Excel　=>　SQLite DB処理"
   ]
  },
  {
   "cell_type": "code",
   "execution_count": 5,
   "metadata": {},
   "outputs": [],
   "source": [
    "import pandas as pd\n",
    "import os\n",
    "from sqlalchemy import create_engine"
   ]
  },
  {
   "cell_type": "code",
   "execution_count": 3,
   "metadata": {},
   "outputs": [
    {
     "data": {
      "text/plain": [
       "['schema.ipynb', '.ipynb_checkpoints', 'HOSP2017_july.xlsx']"
      ]
     },
     "execution_count": 3,
     "metadata": {},
     "output_type": "execute_result"
    }
   ],
   "source": [
    "os.listdir()"
   ]
  },
  {
   "cell_type": "code",
   "execution_count": 4,
   "metadata": {},
   "outputs": [],
   "source": [
    "df = pd.read_excel('HOSP2017_july.xlsx')"
   ]
  },
  {
   "cell_type": "code",
   "execution_count": null,
   "metadata": {},
   "outputs": [],
   "source": [
    "cwd = os.getcwd()"
   ]
  },
  {
   "cell_type": "code",
   "execution_count": null,
   "metadata": {},
   "outputs": [],
   "source": [
    "url = os.path.join(cwd,'hosp.db')"
   ]
  },
  {
   "cell_type": "code",
   "execution_count": null,
   "metadata": {},
   "outputs": [],
   "source": [
    "path = 'sqlite:///' + url"
   ]
  },
  {
   "cell_type": "code",
   "execution_count": 7,
   "metadata": {},
   "outputs": [],
   "source": [
    "engine = create_engine(path, echo=True)"
   ]
  },
  {
   "cell_type": "code",
   "execution_count": 8,
   "metadata": {},
   "outputs": [
    {
     "name": "stdout",
     "output_type": "stream",
     "text": [
      "2018-10-13 20:34:59,577 INFO sqlalchemy.engine.base.Engine SELECT CAST('test plain returns' AS VARCHAR(60)) AS anon_1\n",
      "2018-10-13 20:34:59,578 INFO sqlalchemy.engine.base.Engine ()\n",
      "2018-10-13 20:34:59,581 INFO sqlalchemy.engine.base.Engine SELECT CAST('test unicode returns' AS VARCHAR(60)) AS anon_1\n",
      "2018-10-13 20:34:59,582 INFO sqlalchemy.engine.base.Engine ()\n",
      "2018-10-13 20:34:59,584 INFO sqlalchemy.engine.base.Engine PRAGMA table_info(\"hosp\")\n",
      "2018-10-13 20:34:59,585 INFO sqlalchemy.engine.base.Engine ()\n",
      "2018-10-13 20:34:59,590 INFO sqlalchemy.engine.base.Engine \n",
      "CREATE TABLE hosp (\n",
      "\t\"index\" BIGINT, \n",
      "\t\"FID\" BIGINT, \n",
      "\t\"医療機関番号\" BIGINT, \n",
      "\t\"医療機関コード\" BIGINT, \n",
      "\t\"医療機関名\" TEXT, \n",
      "\t\"郵便番号\" BIGINT, \n",
      "\t\"都道府県\" TEXT, \n",
      "\t\"都道府県番号\" BIGINT, \n",
      "\t\"医療機関所在地\" TEXT, \n",
      "\t\"X\" FLOAT, \n",
      "\t\"Y\" FLOAT, \n",
      "\t\"二次医療圏番号\" BIGINT, \n",
      "\t\"二次医療圏名\" TEXT, \n",
      "\t\"地方団体コード\" BIGINT, \n",
      "\t\"地方団体コード名\" TEXT, \n",
      "\t\"常勤合計\" BIGINT, \n",
      "\t\"常勤医師数\" BIGINT, \n",
      "\t\"常勤歯科医師\" BIGINT, \n",
      "\t\"常勤薬剤師\" BIGINT, \n",
      "\t\"非常勤合計\" BIGINT, \n",
      "\t\"非常勤医師数\" BIGINT, \n",
      "\t\"非常勤歯科医師数\" BIGINT, \n",
      "\t\"非常勤薬剤師数\" BIGINT, \n",
      "\t\"常勤非常勤医師合計\" BIGINT, \n",
      "\t\"一般病床数\" BIGINT, \n",
      "\t\"一般感染病床\" BIGINT, \n",
      "\t\"介護病床数\" BIGINT, \n",
      "\t\"療養病床数\" BIGINT, \n",
      "\t\"精神病床数\" BIGINT, \n",
      "\t\"結核病床数\" BIGINT, \n",
      "\t\"病床数\" BIGINT, \n",
      "\t\"病診区分\" BIGINT, \n",
      "\t\"病院機能\" BIGINT\n",
      ")\n",
      "\n",
      "\n",
      "2018-10-13 20:34:59,590 INFO sqlalchemy.engine.base.Engine ()\n",
      "2018-10-13 20:34:59,592 INFO sqlalchemy.engine.base.Engine COMMIT\n",
      "2018-10-13 20:34:59,593 INFO sqlalchemy.engine.base.Engine CREATE INDEX ix_hosp_index ON hosp (\"index\")\n",
      "2018-10-13 20:34:59,593 INFO sqlalchemy.engine.base.Engine ()\n",
      "2018-10-13 20:34:59,595 INFO sqlalchemy.engine.base.Engine COMMIT\n",
      "2018-10-13 20:34:59,700 INFO sqlalchemy.engine.base.Engine BEGIN (implicit)\n",
      "2018-10-13 20:35:02,813 INFO sqlalchemy.engine.base.Engine INSERT INTO hosp (\"index\", \"FID\", \"医療機関番号\", \"医療機関コード\", \"医療機関名\", \"郵便番号\", \"都道府県\", \"都道府県番号\", \"医療機関所在地\", \"X\", \"Y\", \"二次医療圏番号\", \"二次医療圏名\", \"地方団体コード\", \"地方団体コード名\", \"常勤合計\", \"常勤医師数\", \"常勤歯科医師\", \"常勤薬剤師\", \"非常勤合計\", \"非常勤医師数\", \"非常勤歯科医師数\", \"非常勤薬剤師数\", \"常勤非常勤医師合計\", \"一般病床数\", \"一般感染病床\", \"介護病床数\", \"療養病床数\", \"精神病床数\", \"結核病床数\", \"病床数\", \"病診区分\", \"病院機能\") VALUES (?, ?, ?, ?, ?, ?, ?, ?, ?, ?, ?, ?, ?, ?, ?, ?, ?, ?, ?, ?, ?, ?, ?, ?, ?, ?, ?, ?, ?, ?, ?, ?, ?)\n",
      "2018-10-13 20:35:02,815 INFO sqlalchemy.engine.base.Engine ((0, 1, 1410031, 111410031, '社会福祉法人\\u3000函館厚生院\\u3000函館五稜郭病院', 400001, '北海道', 1, '北海道函館市五稜郭町３８番３号', 140.755422888, 41.7925528084, 101, '南渡島\\u3000\\u3000\\u3000\\u3000\\u3000\\u3000\\u3000', 1202, '函館市', 107, 102, 5, 0, 3, 3, 0, 0, 105, 480, 0, 0, 0, 0, 0, 480, 1, 0), (1, 2, 1410049, 111410049, '函館中央病院', 400011, '北海道', 1, '北海道函館市本町３３番２号', 140.751653992, 41.786752908, 101, '南渡島\\u3000\\u3000\\u3000\\u3000\\u3000\\u3000\\u3000', 1202, '函館市', 84, 81, 3, 0, 11, 11, 0, 0, 92, 527, 0, 0, 0, 0, 0, 527, 1, 0), (2, 3, 1410064, 111410064, '函館赤十字病院', 400025, '北海道', 1, '北海道函館市堀川町６番２１号', 140.740241772, 41.7781649312, 101, '南渡島\\u3000\\u3000\\u3000\\u3000\\u3000\\u3000\\u3000', 1202, '函館市', 10, 10, 0, 0, 1, 1, 0, 0, 11, 150, 0, 0, 0, 0, 0, 150, 1, 0), (3, 4, 1410346, 111410346, '社会医療法人\\u3000高橋病院', 400054, '北海道', 1, '北海道函館市元町３２番１８号', 140.712312967, 41.76512278, 101, '南渡島\\u3000\\u3000\\u3000\\u3000\\u3000\\u3000\\u3000', 1202, '函館市', 11, 11, 0, 0, 5, 5, 0, 0, 16, 59, 0, 60, 60, 0, 0, 179, 1, 0), (4, 5, 1410403, 111410403, '函館渡辺病院', 420932, '北海道', 1, '北海道函館市湯川町１丁目３１番１号', 140.785401861, 41.7814798541, 101, '南渡島\\u3000\\u3000\\u3000\\u3000\\u3000\\u3000\\u3000', 1202, '函館市', 30, 30, 0, 0, 81, 81, 0, 0, 111, 120, 0, 0, 0, 461, 0, 581, 1, 0), (5, 6, 1411005, 111411005, '医療法人\\u3000同仁会\\u3000佐々木病院', 410813, '北海道', 1, '北海道函館市亀田本町３６番１号', 140.735833751, 41.8074888543, 101, '南渡島\\u3000\\u3000\\u3000\\u3000\\u3000\\u3000\\u3000', 1202, '函館市', 2, 2, 0, 0, 2, 2, 0, 0, 4, 30, 0, 0, 87, 105, 0, 222, 1, 0), (6, 7, 1411237, 111411237, '特定医療法人\\u3000富田病院', 420935, '北海道', 1, '北海道函館市駒場町９番１８号', 140.77385577, 41.7848978791, 101, '南渡島\\u3000\\u3000\\u3000\\u3000\\u3000\\u3000\\u3000', 1202, '函館市', 9, 9, 0, 0, 5, 5, 0, 0, 14, 45, 0, 0, 29, 316, 0, 390, 1, 0), (7, 8, 1411419, 111411419, '共愛会病院', 400014, '北海道', 1, '北海道函館市中島町７番２１号', 140.740616935, 41.7853939569, 101, '南渡島\\u3000\\u3000\\u3000\\u3000\\u3000\\u3000\\u3000', 1202, '函館市', 13, 11, 2, 0, 103, 103, 0, 0, 114, 245, 0, 0, 133, 0, 0, 378, 1, 0)  ... displaying 10 of 96140 total bound parameter sets ...  (96138, 96139, 2510173, 4712510173, '竹富町立\\u3000黒島診療所', 9071311, '沖縄県', 47, '沖縄県八重山郡竹富町字黒島１４７３番地の１', 124.01024418, 24.2377829258, 4705, '八重山\\u3000\\u3000\\u3000\\u3000\\u3000\\u3000\\u3000', 47381, '竹富町', 1, 1, 0, 0, 0, 0, 0, 0, 1, 0, 0, 0, 0, 0, 0, 0, 0, 3), (96139, 96140, 2510058, 4712510058, '与那国診療所', 9071801, '沖縄県', 47, '沖縄県八重山郡与那国町与那国１２５－１', 122.988941133, 24.4554046411, 4705, '八重山\\u3000\\u3000\\u3000\\u3000\\u3000\\u3000\\u3000', 47382, '与那国町', 1, 1, 0, 0, 1, 1, 0, 0, 2, 0, 0, 0, 0, 0, 0, 0, 0, 3))\n",
      "2018-10-13 20:35:03,534 INFO sqlalchemy.engine.base.Engine COMMIT\n"
     ]
    }
   ],
   "source": [
    "df.to_sql('hosp',engine)"
   ]
  },
  {
   "cell_type": "code",
   "execution_count": null,
   "metadata": {},
   "outputs": [],
   "source": []
  }
 ],
 "metadata": {
  "kernelspec": {
   "display_name": "Python 3",
   "language": "python",
   "name": "python3"
  },
  "language_info": {
   "codemirror_mode": {
    "name": "ipython",
    "version": 3
   },
   "file_extension": ".py",
   "mimetype": "text/x-python",
   "name": "python",
   "nbconvert_exporter": "python",
   "pygments_lexer": "ipython3",
   "version": "3.6.4"
  }
 },
 "nbformat": 4,
 "nbformat_minor": 2
}
